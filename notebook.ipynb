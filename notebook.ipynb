{
 "cells": [
  {
   "cell_type": "code",
   "execution_count": 51,
   "metadata": {},
   "outputs": [],
   "source": [
    "import neo4j\n",
    "from neo4j import GraphDatabase\n",
    "import json\n",
    "import json5\n",
    "import random"
   ]
  },
  {
   "cell_type": "code",
   "execution_count": 52,
   "metadata": {},
   "outputs": [],
   "source": [
    "def exec_query(\n",
    "  uri: str,\n",
    "  username: str,\n",
    "  password: str,\n",
    "  query: str, \n",
    "  params: dict,\n",
    "  database: str = \"neo4j\"):\n",
    "    with GraphDatabase.driver(uri, auth=(username, password)) as driver:\n",
    "      records, summary, keys = driver.execute_query(query, params, database=database)\n",
    "      return records, summary, keys\n",
    "\n"
   ]
  },
  {
   "cell_type": "markdown",
   "metadata": {},
   "source": [
    "# RESET DB"
   ]
  },
  {
   "cell_type": "code",
   "execution_count": 53,
   "metadata": {},
   "outputs": [
    {
     "data": {
      "text/plain": [
       "([], <neo4j._work.summary.ResultSummary at 0x7b01a3b7b050>, [])"
      ]
     },
     "execution_count": 53,
     "metadata": {},
     "output_type": "execute_result"
    }
   ],
   "source": [
    "delete_query = \"\"\"\n",
    "MATCH (n)\n",
    "DETACH DELETE n\n",
    "\"\"\"\n",
    "exec_query(\"neo4j://localhost:7687\", \"neo4j\", \"password\", delete_query, {})"
   ]
  },
  {
   "cell_type": "markdown",
   "metadata": {},
   "source": [
    "# DUMP ALL POKEMONS IN DB"
   ]
  },
  {
   "cell_type": "code",
   "execution_count": null,
   "metadata": {},
   "outputs": [],
   "source": [
    "def createPokemon(pokemon):\n",
    "    return {\n",
    "        \"name\": pokemon[\"name\"],\n",
    "        \"num\": pokemon[\"num\"],\n",
    "        \"heightm\": pokemon[\"heightm\"],\n",
    "        \"weightkg\": pokemon[\"weightkg\"],\n",
    "        \"hp\": pokemon[\"baseStats\"][\"hp\"],\n",
    "        \"atk\": pokemon[\"baseStats\"][\"atk\"],\n",
    "        \"def\": pokemon[\"baseStats\"][\"def\"],\n",
    "        \"spa\": pokemon[\"baseStats\"][\"spa\"],\n",
    "        \"spd\": pokemon[\"baseStats\"][\"spd\"],\n",
    "        \"spe\": pokemon[\"baseStats\"][\"spe\"]\n",
    "    } \n",
    "\n",
    "def createMove(move):\n",
    "    return {\n",
    "        \"name\": move[\"name\"],\n",
    "        \"accuracy\": move[\"accuracy\"],\n",
    "        \"basePower\": move[\"basePower\"],\n",
    "        \"pp\": move[\"pp\"],\n",
    "        \"category\": move[\"category\"],\n",
    "        \"description\": move[\"shortDesc\"]\n",
    "    }\n",
    "\n",
    "\n",
    "INSERT_POKEMON = \"\"\"\n",
    "CREATE (p:Pokemon \n",
    "    {\n",
    "        name: $name, \n",
    "        num: $num, \n",
    "        heightm: $heightm, \n",
    "        weightkg: $weightkg,\n",
    "        hp: $hp,\n",
    "        atk: $atk,\n",
    "        def: $def,\n",
    "        spa: $spa,\n",
    "        spd: $spd,\n",
    "        spe: $spe\n",
    "    }\n",
    ")\n",
    "\"\"\"\n",
    "\n",
    "INSERT_ABILITY = \"\"\"\n",
    "CREATE (a:Ability {name: $name, description: $description})\n",
    "\"\"\"\n",
    "\n",
    "INSERT_TYPE = \"\"\"\n",
    "CREATE (t:Type {name: $name})\n",
    "\"\"\"\n",
    "\n",
    "INSERT_POKEMON_TYPE = \"\"\"\n",
    "MATCH (p:Pokemon {name: $pokemon}), (t:Type {name: $type})\n",
    "CREATE (p)-[:IS_TYPE]->(t)\n",
    "\"\"\"\n",
    "\n",
    "INSERT_POKEMON_ABILITY = \"\"\"\n",
    "MATCH (p:Pokemon {name: $pokemon}), (a:Ability {name: $ability})\n",
    "CREATE (p)-[:HAS_ABILITY]->(a)\n",
    "\"\"\"\n",
    "\n",
    "INSERT_MOVE = \"\"\"\n",
    "CREATE (m:Move {name: $name, category: $category, power: $power, pp: $pp, accuracy: $accuracy})\n",
    "\"\"\"\n",
    "\n",
    "INSERT_POKEMON_MOVES = \"\"\"\n",
    "MATCH (p:Pokemon {name: $pokemon}), (m:Move {name: $move})\n",
    "CREATE (p)-[:KNOWS]->(m)\n",
    "\"\"\"\n",
    "\n",
    "INSERT_MOVES_TYPE = \"\"\"\n",
    "MATCH (m:Move {name: $move}), (t:Type {name: $type})\n",
    "CREATE (m)-[:IS_TYPE]->(t)\n",
    "\"\"\"\n",
    "\n",
    "with open('abilities.json5') as abilities:\n",
    "    abilities_data = json5.load(abilities)\n",
    "    for ability in abilities_data:\n",
    "        exec_query(\"neo4j://localhost\" , \"neo4j\", \"password\", INSERT_ABILITY, {\"name\": ability, \"description\": abilities_data[ability][\"shortDesc\"]})\n",
    "\n",
    "with open('pokedex.json') as pokedex:\n",
    "    with open('learnsets.json') as learnset:\n",
    "        with open('moves.json') as moves:    \n",
    "            pokedex_data = json.load(pokedex)\n",
    "            learnset_data = json.load(learnset)\n",
    "            moves_data = json.load(moves)\n",
    "\n",
    "            # Types \n",
    "            types =  set([type for pokemon in pokedex_data for type in pokedex_data[pokemon][\"types\"] if pokedex_data[pokemon][\"num\"] > 0])\n",
    "            for type in types:\n",
    "                exec_query(\"neo4j://localhost:7687\", \"neo4j\", \"password\", INSERT_TYPE, {\"name\": type})\n",
    "        \n",
    "            # Pokemons\n",
    "            for pokemon in pokedex_data:\n",
    "                if pokedex_data[pokemon][\"num\"] > 0 and \"-\" not in pokedex_data[pokemon][\"name\"]:\n",
    "                    print(pokedex_data[pokemon])\n",
    "                    exec_query(\"neo4j://localhost:7687\", \"neo4j\", \"password\", INSERT_POKEMON, createPokemon(pokedex_data[pokemon]))\n",
    "                    \n",
    "                    # Relacion pokemon con tipos\n",
    "                    for type in pokedex_data[pokemon][\"types\"]:\n",
    "                        exec_query(\"neo4j://localhost:7687\", \"neo4j\", \"password\", INSERT_POKEMON_TYPE, {\"pokemon\": pokedex_data[pokemon][\"name\"], \"type\": type})\n",
    "                    \n",
    "                    # Relacion pokemon con habilidades\n",
    "                    for ability in pokedex_data[pokemon][\"abilities\"].values():\n",
    "                        exec_query(\"neo4j://localhost:7687\", \"neo4j\", \"password\", INSERT_POKEMON_ABILITY, {\"pokemon\": pokedex_data[pokemon][\"name\"], \"ability\": ability.lower()})\n",
    "\n",
    "                    # Take 2 random moves from the learnset and find them in the moves.json to dump them in the database\n",
    "                    random_move = moves_data[random.choice(list(learnset_data[pokemon][\"learnset\"]))]\n",
    "                    print(random_move)\n",
    "                    \n",
    "                     "
   ]
  },
  {
   "cell_type": "code",
   "execution_count": 58,
   "metadata": {},
   "outputs": [],
   "source": [
    "query = \"\"\"\n",
    "MATCH (p:Pokemon)-[:HAS_ABILITY]->(a:Ability)\n",
    "WHERE a.name = $ability\n",
    "RETURN p, a\n",
    "\"\"\"\n",
    "\n",
    "records, summary, keys = exec_query(\"neo4j://localhost:7687\", \"neo4j\", \"password\", query, {\"ability\": \"Torrent\"})\n",
    "for record in records:\n",
    "    print(record)"
   ]
  },
  {
   "cell_type": "code",
   "execution_count": null,
   "metadata": {},
   "outputs": [],
   "source": [
    "query = \"\"\"\n",
    "MATCH (p1:Pokemon)-[:IS_TYPE]->(t1:Type)\n",
    "MATCH (p1)-[:HAS_ABILITY]->(a1:Ability)\n",
    "WITH p1, collect(t1) as types, collect(a1) as abilities\n",
    "MATCH (p2:Pokemon)-[:IS_TYPE]->(t2:Type)\n",
    "MATCH (p2)-[:HAS_ABILITY]->(a2:Ability)\n",
    "WHERE p1 <> p2 AND types = collect(t2) AND abilities = collect(a2)\n",
    "RETURN p1, p2\n",
    "\"\"\"\n",
    "\n",
    "records, summary, keys = exec_query(\"neo4j://localhost:7687\", \"neo4j\", \"password\", query, {})\n",
    "\n",
    "for record in records:\n",
    "    print(record)"
   ]
  },
  {
   "cell_type": "code",
   "execution_count": null,
   "metadata": {},
   "outputs": [],
   "source": [
    "query = \"\"\"\n",
    "MATCH (p:Pokemon)-[:IS_TYPE]->(t:Type)\n",
    "WITH p, collect(t) as types\n",
    "MATCH (p)-[:HAS_ABILITY]->(a:Ability)\n",
    "WITH p, types, collect(a) as abilities\n",
    "RETURN p, types, abilities\n",
    "\"\"\"\n",
    "\n",
    "records, summary, keys = exec_query(\"neo4j://localhost:7687\", \"neo4j\", \"password\", query, {})\n",
    "for record in records:\n",
    "    print(record)"
   ]
  },
  {
   "cell_type": "markdown",
   "metadata": {},
   "source": [
    "QUERY_POKEMON_BY_HEIGHT = \"\"\"\n",
    "MATCH (p:Pokemon)\n",
    "WHERE p.heightm >= $min_height AND p.heightm <= $max_height\n",
    "RETURN p\n",
    "\"\"\"\n",
    "\n",
    "QUERY_POKEMON_BY_TYPE = \"\"\"\n",
    "MATCH (p:Pokemon)-[:IS_OF_TYPE]->(t:Type {name: $type})\n",
    "RETURN p\n",
    "\"\"\"\n",
    "\n",
    "QUERY_POKEMON_BY_ABILITY = \"\"\"\n",
    "MATCH (p:Pokemon)-[:HAS_ABILITY]->(a:Ability {name: $ability})\n",
    "return p\n",
    "\"\"\"\n",
    "\n",
    "QUERY_POKEMON_BY_MOVE = \"\"\"\n",
    "MATCH (p:Pokemon-[HAS_MOVE]->(m:Move {name: $move}))\n",
    "return p\n",
    "\"\"\"\n",
    "\n",
    "QUERY_POKEMON_BY_NAME = \"\"\"\n",
    "MATCH (p:Pokemon)\n",
    "WHERE p.name == $name\n",
    "RETURN p\n",
    "\"\"\""
   ]
  },
  {
   "cell_type": "markdown",
   "metadata": {},
   "source": []
  }
 ],
 "metadata": {
  "kernelspec": {
   "display_name": "pokemon4j",
   "language": "python",
   "name": "python3"
  },
  "language_info": {
   "codemirror_mode": {
    "name": "ipython",
    "version": 3
   },
   "file_extension": ".py",
   "mimetype": "text/x-python",
   "name": "python",
   "nbconvert_exporter": "python",
   "pygments_lexer": "ipython3",
   "version": "3.12.3"
  }
 },
 "nbformat": 4,
 "nbformat_minor": 2
}
